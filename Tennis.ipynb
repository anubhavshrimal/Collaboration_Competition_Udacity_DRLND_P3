{
 "cells": [
  {
   "cell_type": "markdown",
   "metadata": {},
   "source": [
    "# Collaboration and Competition\n",
    "\n",
    "---\n",
    "\n",
    "### 1. Start the Environment\n"
   ]
  },
  {
   "cell_type": "code",
   "execution_count": 4,
   "metadata": {},
   "outputs": [
    {
     "name": "stderr",
     "output_type": "stream",
     "text": [
      "INFO:unityagents:\n",
      "'Academy' started successfully!\n",
      "Unity Academy name: Academy\n",
      "        Number of Brains: 1\n",
      "        Number of External Brains : 1\n",
      "        Lesson number : 0\n",
      "        Reset Parameters :\n",
      "\t\t\n",
      "Unity brain name: TennisBrain\n",
      "        Number of Visual Observations (per agent): 0\n",
      "        Vector Observation space type: continuous\n",
      "        Vector Observation space size (per agent): 8\n",
      "        Number of stacked Vector Observation: 3\n",
      "        Vector Action space type: continuous\n",
      "        Vector Action space size (per agent): 2\n",
      "        Vector Action descriptions: , \n"
     ]
    }
   ],
   "source": [
    "from unityagents import UnityEnvironment\n",
    "import numpy as np\n",
    "\n",
    "env = UnityEnvironment(file_name=\"/data/Tennis_Linux_NoVis/Tennis\")"
   ]
  },
  {
   "cell_type": "markdown",
   "metadata": {},
   "source": [
    "Environments contain **_brains_** which are responsible for deciding the actions of their associated agents. Here we check for the first brain available, and set it as the default brain we will be controlling from Python."
   ]
  },
  {
   "cell_type": "code",
   "execution_count": 5,
   "metadata": {},
   "outputs": [],
   "source": [
    "# get the default brain\n",
    "brain_name = env.brain_names[0]\n",
    "brain = env.brains[brain_name]"
   ]
  },
  {
   "cell_type": "markdown",
   "metadata": {},
   "source": [
    "### 2. Examine the State and Action Spaces\n",
    "\n",
    "Run the code cell below to print some information about the environment."
   ]
  },
  {
   "cell_type": "code",
   "execution_count": 6,
   "metadata": {},
   "outputs": [
    {
     "name": "stdout",
     "output_type": "stream",
     "text": [
      "Number of agents: 2\n",
      "Size of each action: 2\n",
      "There are 2 agents. Each observes a state with length: 24\n",
      "The state for the first agent looks like: [ 0.          0.          0.          0.          0.          0.          0.\n",
      "  0.          0.          0.          0.          0.          0.          0.\n",
      "  0.          0.         -6.65278625 -1.5        -0.          0.\n",
      "  6.83172083  6.         -0.          0.        ]\n"
     ]
    }
   ],
   "source": [
    "# reset the environment\n",
    "env_info = env.reset(train_mode=True)[brain_name]\n",
    "\n",
    "# number of agents \n",
    "num_agents = len(env_info.agents)\n",
    "print('Number of agents:', num_agents)\n",
    "\n",
    "# size of each action\n",
    "action_size = brain.vector_action_space_size\n",
    "print('Size of each action:', action_size)\n",
    "\n",
    "# examine the state space \n",
    "states = env_info.vector_observations\n",
    "state_size = states.shape[1]\n",
    "print('There are {} agents. Each observes a state with length: {}'.format(states.shape[0], state_size))\n",
    "print('The state for the first agent looks like:', states[0])"
   ]
  },
  {
   "cell_type": "markdown",
   "metadata": {},
   "source": [
    "### 3. Take Random Actions in the Environment\n",
    "\n",
    "In the next code cell, you will learn how to use the Python API to control the agent and receive feedback from the environment.\n",
    "\n",
    "Note that **in this coding environment, you will not be able to watch the agents while they are training**, and you should set `train_mode=True` to restart the environment."
   ]
  },
  {
   "cell_type": "code",
   "execution_count": 7,
   "metadata": {},
   "outputs": [
    {
     "name": "stdout",
     "output_type": "stream",
     "text": [
      "Total score (averaged over agents) this episode: 0.09500000160187483\n",
      "Total score (averaged over agents) this episode: -0.004999999888241291\n",
      "Total score (averaged over agents) this episode: -0.004999999888241291\n",
      "Total score (averaged over agents) this episode: -0.004999999888241291\n",
      "Total score (averaged over agents) this episode: 0.04500000085681677\n"
     ]
    }
   ],
   "source": [
    "for i in range(5):                                         # play game for 5 episodes\n",
    "    env_info = env.reset(train_mode=False)[brain_name]     # reset the environment    \n",
    "    states = env_info.vector_observations                  # get the current state (for each agent)\n",
    "    scores = np.zeros(num_agents)                          # initialize the score (for each agent)\n",
    "    while True:\n",
    "        actions = np.random.randn(num_agents, action_size) # select an action (for each agent)\n",
    "        actions = np.clip(actions, -1, 1)                  # all actions between -1 and 1\n",
    "        env_info = env.step(actions)[brain_name]           # send all actions to tne environment\n",
    "        next_states = env_info.vector_observations         # get next state (for each agent)\n",
    "        rewards = env_info.rewards                         # get reward (for each agent)\n",
    "        dones = env_info.local_done                        # see if episode finished\n",
    "        scores += env_info.rewards                         # update the score (for each agent)\n",
    "        states = next_states                               # roll over states to next time step\n",
    "        if np.any(dones):                                  # exit loop if episode finished\n",
    "            break\n",
    "    print('Total score (averaged over agents) this episode: {}'.format(np.mean(scores)))"
   ]
  },
  {
   "cell_type": "markdown",
   "metadata": {},
   "source": [
    "When finished, you can close the environment."
   ]
  },
  {
   "cell_type": "markdown",
   "metadata": {},
   "source": [
    "### 4. It's Your Turn!\n",
    "\n",
    "Now it's your turn to train your own agent to solve the environment!  A few **important notes**:\n",
    "- When training the environment, set `train_mode=True`, so that the line for resetting the environment looks like the following:\n",
    "```python\n",
    "env_info = env.reset(train_mode=True)[brain_name]\n",
    "```\n",
    "- To structure your work, you're welcome to work directly in this Jupyter notebook, or you might like to start over with a new file!  You can see the list of files in the workspace by clicking on **_Jupyter_** in the top left corner of the notebook.\n",
    "- In this coding environment, you will not be able to watch the agents while they are training.  However, **_after training the agents_**, you can download the saved model weights to watch the agents on your own machine! "
   ]
  },
  {
   "cell_type": "code",
   "execution_count": 8,
   "metadata": {},
   "outputs": [],
   "source": [
    "import torch\n",
    "import time\n",
    "\n",
    "from collections import deque\n",
    "from maddpg.maddpg_agent import Agent\n",
    "\n",
    "import matplotlib.pyplot as plt\n",
    "%matplotlib inline"
   ]
  },
  {
   "cell_type": "code",
   "execution_count": 9,
   "metadata": {},
   "outputs": [],
   "source": [
    "def get_actions(states, add_noise):\n",
    "    \"\"\"Gets actions for each agent and then combines them into one array\"\"\"\n",
    "    action_0 = agent_0.act(states, add_noise)    # agent 0 chooses an action\n",
    "    action_1 = agent_1.act(states, add_noise)    # agent 1 chooses an action\n",
    "    return np.concatenate((action_0, action_1), axis=0).flatten()"
   ]
  },
  {
   "cell_type": "code",
   "execution_count": 10,
   "metadata": {},
   "outputs": [],
   "source": [
    "def maddpg(n_episodes=10000, max_t=1000, print_every=10):\n",
    "    \"\"\"Multi-Agent Deep Deterministic Policy Gradient (MADDPG)\n",
    "    \n",
    "    Params\n",
    "    ======\n",
    "        n_episodes (int)      : maximum number of training episodes\n",
    "        max_t (int)           : maximum number of timesteps per episode\n",
    "        print_every (int)     : interval to display results\n",
    "    \"\"\"\n",
    "    scores_all = []\n",
    "    moving_avgs = []\n",
    "    best_score = -np.inf\n",
    "    best_episode = 0\n",
    "    scores_window = deque(maxlen=100)\n",
    "\n",
    "    for i_episode in range(1, n_episodes+1):\n",
    "        env_info = env.reset(train_mode=True)[brain_name]         # reset the environment\n",
    "        states = np.reshape(env_info.vector_observations, (1,48)) # get states and combine them\n",
    "        agent_0.reset()\n",
    "        agent_1.reset()\n",
    "        scores = np.zeros(num_agents)\n",
    "        \n",
    "        while True:\n",
    "            actions = get_actions(states, True)                # choose agent actions and combine them\n",
    "            env_info = env.step(actions)[brain_name]           # send both agents' actions together to the environment\n",
    "            next_states = np.reshape(env_info.vector_observations, (1, 48)) # combine the agent next states\n",
    "            rewards = env_info.rewards                         # get reward\n",
    "            done = env_info.local_done                         # see if episode finished\n",
    "            \n",
    "            agent_0.step(states, actions, rewards[0], next_states, done, 0) # agent 1 learns\n",
    "            agent_1.step(states, actions, rewards[1], next_states, done, 1) # agent 2 learns\n",
    "            \n",
    "            scores += np.max(rewards)                          # update the score for each agent\n",
    "            states = next_states                               # roll over states to next time step\n",
    "            \n",
    "            if np.any(done):                                   # exit loop if episode finished\n",
    "                break\n",
    "\n",
    "        ep_best_score = np.max(scores)\n",
    "        scores_window.append(ep_best_score)\n",
    "        scores_all.append(ep_best_score)\n",
    "        moving_avgs.append(np.mean(scores_window))\n",
    "\n",
    "        # save best score                        \n",
    "        if ep_best_score > best_score:\n",
    "            best_score = ep_best_score\n",
    "            best_episode = i_episode\n",
    "        \n",
    "        # print results\n",
    "        if i_episode % print_every == 0:\n",
    "            print('Episodes {:0>4d}-{:0>4d}\\tMax Reward: {:.3f}\\tMoving Average: {:.3f}'.format(\n",
    "                i_episode-print_every, i_episode, np.max(scores_all[-print_every:]), moving_avgs[-1]))\n",
    "\n",
    "        # determine if environment is solved and keep best performing models\n",
    "        if moving_avgs[-1] >= 0.5 and i_episode >= 100:\n",
    "            print('<-- Environment solved in {:d} episodes! \\\n",
    "            \\n<-- Moving Average: {:.3f} over past {:d} episodes'.format(\n",
    "                i_episode-100, moving_avgs[-1], 100))\n",
    "            \n",
    "            # save weights\n",
    "            torch.save(agent_0.actor_local.state_dict(), 'models/checkpoint_actor_0.pth')\n",
    "            torch.save(agent_0.critic_local.state_dict(), 'models/checkpoint_critic_0.pth')\n",
    "            torch.save(agent_1.actor_local.state_dict(), 'models/checkpoint_actor_1.pth')\n",
    "            torch.save(agent_1.critic_local.state_dict(), 'models/checkpoint_critic_1.pth')\n",
    "            break\n",
    "            \n",
    "    return scores_all, moving_avgs"
   ]
  },
  {
   "cell_type": "code",
   "execution_count": 11,
   "metadata": {},
   "outputs": [],
   "source": [
    "start_time = time.time()"
   ]
  },
  {
   "cell_type": "code",
   "execution_count": 12,
   "metadata": {},
   "outputs": [],
   "source": [
    "agent_0 = Agent(state_size, action_size, num_agents=1, random_seed=0)\n",
    "agent_1 = Agent(state_size, action_size, num_agents=1, random_seed=0)"
   ]
  },
  {
   "cell_type": "code",
   "execution_count": 13,
   "metadata": {
    "scrolled": false
   },
   "outputs": [
    {
     "name": "stdout",
     "output_type": "stream",
     "text": [
      "Episodes 0000-0010\tMax Reward: 0.000\tMoving Average: 0.000\n",
      "Episodes 0010-0020\tMax Reward: 0.100\tMoving Average: 0.010\n",
      "Episodes 0020-0030\tMax Reward: 0.000\tMoving Average: 0.007\n",
      "Episodes 0030-0040\tMax Reward: 0.000\tMoving Average: 0.005\n",
      "Episodes 0040-0050\tMax Reward: 0.000\tMoving Average: 0.004\n",
      "Episodes 0050-0060\tMax Reward: 0.100\tMoving Average: 0.008\n",
      "Episodes 0060-0070\tMax Reward: 0.000\tMoving Average: 0.007\n",
      "Episodes 0070-0080\tMax Reward: 0.200\tMoving Average: 0.009\n",
      "Episodes 0080-0090\tMax Reward: 0.100\tMoving Average: 0.009\n",
      "Episodes 0090-0100\tMax Reward: 0.000\tMoving Average: 0.008\n",
      "Episodes 0100-0110\tMax Reward: 0.100\tMoving Average: 0.009\n",
      "Episodes 0110-0120\tMax Reward: 0.100\tMoving Average: 0.008\n",
      "Episodes 0120-0130\tMax Reward: 0.100\tMoving Average: 0.009\n",
      "Episodes 0130-0140\tMax Reward: 0.000\tMoving Average: 0.009\n",
      "Episodes 0140-0150\tMax Reward: 0.100\tMoving Average: 0.011\n",
      "Episodes 0150-0160\tMax Reward: 0.100\tMoving Average: 0.009\n",
      "Episodes 0160-0170\tMax Reward: 0.100\tMoving Average: 0.010\n",
      "Episodes 0170-0180\tMax Reward: 0.200\tMoving Average: 0.012\n",
      "Episodes 0180-0190\tMax Reward: 0.100\tMoving Average: 0.012\n",
      "Episodes 0190-0200\tMax Reward: 0.100\tMoving Average: 0.014\n",
      "Episodes 0200-0210\tMax Reward: 0.100\tMoving Average: 0.014\n",
      "Episodes 0210-0220\tMax Reward: 0.100\tMoving Average: 0.016\n",
      "Episodes 0220-0230\tMax Reward: 0.100\tMoving Average: 0.017\n",
      "Episodes 0230-0240\tMax Reward: 0.100\tMoving Average: 0.019\n",
      "Episodes 0240-0250\tMax Reward: 0.300\tMoving Average: 0.021\n",
      "Episodes 0250-0260\tMax Reward: 0.100\tMoving Average: 0.024\n",
      "Episodes 0260-0270\tMax Reward: 0.100\tMoving Average: 0.024\n",
      "Episodes 0270-0280\tMax Reward: 0.100\tMoving Average: 0.022\n",
      "Episodes 0280-0290\tMax Reward: 0.100\tMoving Average: 0.025\n",
      "Episodes 0290-0300\tMax Reward: 0.100\tMoving Average: 0.024\n",
      "Episodes 0300-0310\tMax Reward: 0.100\tMoving Average: 0.024\n",
      "Episodes 0310-0320\tMax Reward: 0.100\tMoving Average: 0.023\n",
      "Episodes 0320-0330\tMax Reward: 0.200\tMoving Average: 0.026\n",
      "Episodes 0330-0340\tMax Reward: 0.200\tMoving Average: 0.029\n",
      "Episodes 0340-0350\tMax Reward: 0.200\tMoving Average: 0.029\n",
      "Episodes 0350-0360\tMax Reward: 0.100\tMoving Average: 0.029\n",
      "Episodes 0360-0370\tMax Reward: 0.200\tMoving Average: 0.033\n",
      "Episodes 0370-0380\tMax Reward: 0.100\tMoving Average: 0.033\n",
      "Episodes 0380-0390\tMax Reward: 0.100\tMoving Average: 0.034\n",
      "Episodes 0390-0400\tMax Reward: 0.200\tMoving Average: 0.045\n",
      "Episodes 0400-0410\tMax Reward: 0.200\tMoving Average: 0.050\n",
      "Episodes 0410-0420\tMax Reward: 0.200\tMoving Average: 0.054\n",
      "Episodes 0420-0430\tMax Reward: 0.100\tMoving Average: 0.056\n",
      "Episodes 0430-0440\tMax Reward: 0.200\tMoving Average: 0.058\n",
      "Episodes 0440-0450\tMax Reward: 0.200\tMoving Average: 0.062\n",
      "Episodes 0450-0460\tMax Reward: 0.200\tMoving Average: 0.063\n",
      "Episodes 0460-0470\tMax Reward: 0.200\tMoving Average: 0.060\n",
      "Episodes 0470-0480\tMax Reward: 0.200\tMoving Average: 0.062\n",
      "Episodes 0480-0490\tMax Reward: 0.200\tMoving Average: 0.066\n",
      "Episodes 0490-0500\tMax Reward: 0.400\tMoving Average: 0.068\n",
      "Episodes 0500-0510\tMax Reward: 0.300\tMoving Average: 0.069\n",
      "Episodes 0510-0520\tMax Reward: 0.300\tMoving Average: 0.075\n",
      "Episodes 0520-0530\tMax Reward: 0.300\tMoving Average: 0.077\n",
      "Episodes 0530-0540\tMax Reward: 0.300\tMoving Average: 0.082\n",
      "Episodes 0540-0550\tMax Reward: 0.400\tMoving Average: 0.092\n",
      "Episodes 0550-0560\tMax Reward: 0.400\tMoving Average: 0.104\n",
      "Episodes 0560-0570\tMax Reward: 0.400\tMoving Average: 0.116\n",
      "Episodes 0570-0580\tMax Reward: 0.200\tMoving Average: 0.121\n",
      "Episodes 0580-0590\tMax Reward: 0.900\tMoving Average: 0.137\n",
      "Episodes 0590-0600\tMax Reward: 1.300\tMoving Average: 0.160\n",
      "Episodes 0600-0610\tMax Reward: 0.900\tMoving Average: 0.184\n",
      "Episodes 0610-0620\tMax Reward: 0.400\tMoving Average: 0.195\n",
      "Episodes 0620-0630\tMax Reward: 0.400\tMoving Average: 0.211\n",
      "Episodes 0630-0640\tMax Reward: 0.300\tMoving Average: 0.218\n",
      "Episodes 0640-0650\tMax Reward: 0.400\tMoving Average: 0.220\n",
      "Episodes 0650-0660\tMax Reward: 0.400\tMoving Average: 0.221\n",
      "Episodes 0660-0670\tMax Reward: 0.800\tMoving Average: 0.237\n",
      "Episodes 0670-0680\tMax Reward: 1.000\tMoving Average: 0.256\n",
      "Episodes 0680-0690\tMax Reward: 2.700\tMoving Average: 0.287\n",
      "Episodes 0690-0700\tMax Reward: 0.500\tMoving Average: 0.276\n",
      "Episodes 0700-0710\tMax Reward: 2.100\tMoving Average: 0.289\n",
      "Episodes 0710-0720\tMax Reward: 1.000\tMoving Average: 0.298\n",
      "Episodes 0720-0730\tMax Reward: 1.000\tMoving Average: 0.303\n",
      "Episodes 0730-0740\tMax Reward: 2.900\tMoving Average: 0.332\n",
      "Episodes 0740-0750\tMax Reward: 0.900\tMoving Average: 0.345\n",
      "Episodes 0750-0760\tMax Reward: 0.700\tMoving Average: 0.349\n",
      "Episodes 0760-0770\tMax Reward: 0.300\tMoving Average: 0.332\n",
      "Episodes 0770-0780\tMax Reward: 1.000\tMoving Average: 0.329\n",
      "Episodes 0780-0790\tMax Reward: 1.100\tMoving Average: 0.310\n",
      "Episodes 0790-0800\tMax Reward: 2.500\tMoving Average: 0.353\n",
      "Episodes 0800-0810\tMax Reward: 2.500\tMoving Average: 0.367\n",
      "Episodes 0810-0820\tMax Reward: 2.700\tMoving Average: 0.421\n",
      "Episodes 0820-0830\tMax Reward: 1.900\tMoving Average: 0.429\n",
      "Episodes 0830-0840\tMax Reward: 0.500\tMoving Average: 0.409\n",
      "Episodes 0840-0850\tMax Reward: 0.400\tMoving Average: 0.400\n",
      "Episodes 0850-0860\tMax Reward: 1.000\tMoving Average: 0.423\n",
      "Episodes 0860-0870\tMax Reward: 1.400\tMoving Average: 0.438\n",
      "<-- Environment solved in 778 episodes!             \n",
      "<-- Moving Average: 0.518 over past 100 episodes\n"
     ]
    }
   ],
   "source": [
    "scores, moving_avgs = maddpg()\n",
    "end_time = time.time()"
   ]
  },
  {
   "cell_type": "code",
   "execution_count": 17,
   "metadata": {},
   "outputs": [
    {
     "name": "stdout",
     "output_type": "stream",
     "text": [
      "Total time elapsed while training: 8.450972664356232 minutes\n"
     ]
    }
   ],
   "source": [
    "print(f'Total time elapsed while training: {(end_time - start_time)/60.0} minutes')"
   ]
  },
  {
   "cell_type": "code",
   "execution_count": 15,
   "metadata": {},
   "outputs": [
    {
     "data": {
      "image/png": "[encoded data removed]",
      "text/plain": [
       "<matplotlib.figure.Figure at 0x7feb6ac0f8d0>"
      ]
     },
     "metadata": {
      "needs_background": "light"
     },
     "output_type": "display_data"
    }
   ],
   "source": [
    "# plot the scores\n",
    "fig = plt.figure(figsize=(10,6))\n",
    "ax = fig.add_subplot(111)\n",
    "plt.plot(np.arange(len(scores)), scores, c='k', label='MADDPG Score', alpha=0.3)\n",
    "plt.plot(np.arange(len(scores)), moving_avgs, c='r', label='Moving Average')\n",
    "plt.plot(np.arange(len(scores)), [0.5]*len(scores), c='b', label='Baseline', alpha=0.5)\n",
    "plt.ylabel('Score')\n",
    "plt.xlabel('Episode #')\n",
    "plt.legend(loc='upper left');\n",
    "plt.grid()\n",
    "plt.savefig('scores_plot.png')\n",
    "plt.show()"
   ]
  },
  {
   "cell_type": "code",
   "execution_count": 16,
   "metadata": {},
   "outputs": [],
   "source": [
    "env.close()"
   ]
  }
 ],
 "metadata": {
  "kernelspec": {
   "display_name": "Python 3",
   "language": "python",
   "name": "python3"
  },
  "language_info": {
   "codemirror_mode": {
    "name": "ipython",
    "version": 3
   },
   "file_extension": ".py",
   "mimetype": "text/x-python",
   "name": "python",
   "nbconvert_exporter": "python",
   "pygments_lexer": "ipython3",
   "version": "3.6.8"
  }
 },
 "nbformat": 4,
 "nbformat_minor": 2
}
